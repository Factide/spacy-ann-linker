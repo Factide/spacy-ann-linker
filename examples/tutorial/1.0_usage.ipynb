{
 "cells": [
  {
   "cell_type": "code",
   "execution_count": 35,
   "metadata": {},
   "outputs": [],
   "source": [
    "import spacy\n",
    "from spacy_ann import AnnLinker\n",
    "\n",
    "# Load the spaCy model from the output_dir you used from the create_index command\n",
    "model_dir = \"models/ann_linker/\"\n",
    "nlp = spacy.load(model_dir)\n",
    "\n",
    "# The NER component of the en_core_web_md model doesn't actually recognize the aliases as entities\n",
    "# so we'll add a spaCy EntityRuler component for now to extract them.\n",
    "ruler = nlp.create_pipe('entity_ruler')\n",
    "patterns = [{\"label\": \"SKILL\", \"pattern\": alias} for alias in nlp.get_pipe('ann_linker').kb.get_alias_strings()]\n",
    "ruler.add_patterns(patterns)\n",
    "nlp.add_pipe(ruler, before=\"ann_linker\")"
   ]
  },
  {
   "cell_type": "code",
   "execution_count": 36,
   "metadata": {},
   "outputs": [
    {
     "name": "stdout",
     "output_type": "stream",
     "text": [
      "[0.84084282 0.82601349]\n",
      "[0.82089778]\n"
     ]
    },
    {
     "data": {
      "text/plain": [
       "[('NLP', 'SKILL', 'a3'), ('Machine learning', 'SKILL', 'a1')]"
      ]
     },
     "execution_count": 36,
     "metadata": {},
     "output_type": "execute_result"
    }
   ],
   "source": [
    "doc = nlp(\"NLP is a highly researched subset of Machine learning.\")\n",
    "[(e.text, e.label_, e.kb_id_) for e in doc.ents]"
   ]
  },
  {
   "cell_type": "code",
   "execution_count": 31,
   "metadata": {},
   "outputs": [
    {
     "data": {
      "text/plain": [
       "3.171593248390084"
      ]
     },
     "execution_count": 31,
     "metadata": {},
     "output_type": "execute_result"
    }
   ],
   "source": [
    "doc.vector_norm"
   ]
  },
  {
   "cell_type": "code",
   "execution_count": 32,
   "metadata": {},
   "outputs": [],
   "source": [
    "import srsly\n",
    "import numpy as np\n",
    "entities = list(srsly.read_jsonl('data/entities.jsonl'))\n",
    "natl_doc = nlp.make_doc(entities[2]['description'])\n",
    "neur_doc = nlp.make_doc(entities[3]['description']) "
   ]
  },
  {
   "cell_type": "code",
   "execution_count": 33,
   "metadata": {},
   "outputs": [
    {
     "data": {
      "text/plain": [
       "array([3.2457936, 2.6232092], dtype=float32)"
      ]
     },
     "execution_count": 33,
     "metadata": {},
     "output_type": "execute_result"
    }
   ],
   "source": [
    "entity_encodings = np.asarray([natl_doc.vector, neur_doc.vector])\n",
    "entity_norm = np.linalg.norm(entity_encodings, axis=1)\n",
    "entity_norm"
   ]
  },
  {
   "cell_type": "code",
   "execution_count": 34,
   "metadata": {},
   "outputs": [
    {
     "data": {
      "text/plain": [
       "0"
      ]
     },
     "execution_count": 34,
     "metadata": {},
     "output_type": "execute_result"
    }
   ],
   "source": [
    "sims = np.dot(entity_encodings, doc.vector.T) / (doc.vector_norm * entity_norm)\n",
    "sims.argmax()"
   ]
  },
  {
   "cell_type": "code",
   "execution_count": null,
   "metadata": {},
   "outputs": [],
   "source": [
    "patterns = [\n",
    "    {\"label\": \"SKILL\", \"pattern\": alias}\n",
    "    for alias in nlp.get_pipe('ann_linker').kb.get_alias_strings()\n",
    "]"
   ]
  },
  {
   "cell_type": "code",
   "execution_count": null,
   "metadata": {},
   "outputs": [],
   "source": [
    "print([(e.text, e.label_, e.kb_id_) for e in doc.ents])"
   ]
  },
  {
   "cell_type": "code",
   "execution_count": null,
   "metadata": {},
   "outputs": [],
   "source": [
    "nlp(\"More text about nlpe\")"
   ]
  },
  {
   "cell_type": "code",
   "execution_count": null,
   "metadata": {},
   "outputs": [],
   "source": [
    "ent = list(doc.ents)[0]"
   ]
  },
  {
   "cell_type": "code",
   "execution_count": null,
   "metadata": {},
   "outputs": [],
   "source": [
    "getattr(ent._, None, 'default')"
   ]
  },
  {
   "cell_type": "code",
   "execution_count": null,
   "metadata": {},
   "outputs": [],
   "source": []
  }
 ],
 "metadata": {
  "kernelspec": {
   "display_name": "Python 3",
   "language": "python",
   "name": "python3"
  },
  "language_info": {
   "codemirror_mode": {
    "name": "ipython",
    "version": 3
   },
   "file_extension": ".py",
   "mimetype": "text/x-python",
   "name": "python",
   "nbconvert_exporter": "python",
   "pygments_lexer": "ipython3",
   "version": "3.6.8"
  }
 },
 "nbformat": 4,
 "nbformat_minor": 4
}
