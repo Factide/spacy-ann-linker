{
 "cells": [
  {
   "cell_type": "code",
   "execution_count": 1,
   "metadata": {},
   "outputs": [],
   "source": [
    "import spacy\n",
    "from spacy_ann import ApproxNearestNeighborsLinker\n",
    "\n",
    "# Load the spaCy model from the output_dir you used from the create_index command\n",
    "model_dir = \"models/ann_linker/\"\n",
    "nlp = spacy.load(model_dir)\n",
    "\n",
    "# The NER component of the en_core_web_md model doesn't actually recognize the aliases as entities\n",
    "# so we'll add a spaCy EntityRuler component for now to extract them.\n",
    "ruler = nlp.create_pipe('entity_ruler')\n",
    "patterns = [{\"label\": \"SKILL\", \"pattern\": alias} for alias in nlp.get_pipe('ann_linker').kb.get_alias_strings()]\n",
    "ruler.add_patterns(patterns)\n",
    "nlp.add_pipe(ruler, before=\"ann_linker\")"
   ]
  },
  {
   "cell_type": "code",
   "execution_count": 2,
   "metadata": {},
   "outputs": [],
   "source": [
    "nlp.get_pipe('ann_linker').cg.threshold = 0.6\n",
    "nlp.get_pipe('ann_linker').cg.verbose = True"
   ]
  },
  {
   "cell_type": "code",
   "execution_count": 7,
   "metadata": {},
   "outputs": [
    {
     "name": "stdout",
     "output_type": "stream",
     "text": [
      "Generating candidates for 2 mentions\n",
      "Number of empty vectors: 1\n",
      "Second [None list([1, 0, 3, 2])] [None list([0.0, 0.28520435094833374, 0.6422226428985596, 1.0])]\n",
      "Finding neighbors took 0.005248300032690167 seconds\n",
      "mention neighbors distances\n",
      "NLP None None\n",
      "mention neighbors distances\n",
      "Machine learning [1, 0, 3, 2] [0.0, 0.28520435094833374, 0.6422226428985596, 1.0]\n",
      "ALIAS: Machine learning 0.0\n",
      "ALIAS: Neuro-linguistic programming 0.28520435094833374\n",
      "ALIAS: Natural language processing 0.6422226428985596\n",
      "ALIAS: Meta Language 1.0\n",
      "[AliasCandidate(alias='NLP', similarity=1.0)]\n",
      "[AliasCandidate(alias='Machine learning', similarity=1.0), AliasCandidate(alias='Neuro-linguistic programming', similarity=0.7147956490516663)]\n"
     ]
    }
   ],
   "source": [
    "doc = nlp(\"NLP is a subset of Machine learning and part of the broader data sci category\")"
   ]
  },
  {
   "cell_type": "code",
   "execution_count": 9,
   "metadata": {},
   "outputs": [],
   "source": [
    "patterns = [\n",
    "    {\"label\": \"SKILL\", \"pattern\": alias}\n",
    "    for alias in nlp.get_pipe('ann_linker').kb.get_alias_strings()\n",
    "]"
   ]
  },
  {
   "cell_type": "code",
   "execution_count": 8,
   "metadata": {},
   "outputs": [
    {
     "name": "stdout",
     "output_type": "stream",
     "text": [
      "[('NLP', 'SKILL', 'a3'), ('Machine learning', 'SKILL', 'a1')]\n"
     ]
    }
   ],
   "source": [
    "print([(e.text, e.label_, e.kb_id_) for e in doc.ents])"
   ]
  },
  {
   "cell_type": "code",
   "execution_count": 4,
   "metadata": {},
   "outputs": [
    {
     "name": "stdout",
     "output_type": "stream",
     "text": [
      "CALL:  [] []\n"
     ]
    },
    {
     "data": {
      "text/plain": [
       "More text about nlpe"
      ]
     },
     "execution_count": 4,
     "metadata": {},
     "output_type": "execute_result"
    }
   ],
   "source": [
    "nlp(\"More text about nlpe\")"
   ]
  },
  {
   "cell_type": "code",
   "execution_count": 5,
   "metadata": {},
   "outputs": [],
   "source": [
    "ent = list(doc.ents)[0]"
   ]
  },
  {
   "cell_type": "code",
   "execution_count": 6,
   "metadata": {},
   "outputs": [
    {
     "ename": "TypeError",
     "evalue": "getattr(): attribute name must be string",
     "output_type": "error",
     "traceback": [
      "\u001b[0;31m---------------------------------------------------------------------------\u001b[0m",
      "\u001b[0;31mTypeError\u001b[0m                                 Traceback (most recent call last)",
      "\u001b[0;32m<ipython-input-6-89093b3c3712>\u001b[0m in \u001b[0;36m<module>\u001b[0;34m\u001b[0m\n\u001b[0;32m----> 1\u001b[0;31m \u001b[0mgetattr\u001b[0m\u001b[0;34m(\u001b[0m\u001b[0ment\u001b[0m\u001b[0;34m.\u001b[0m\u001b[0m_\u001b[0m\u001b[0;34m,\u001b[0m \u001b[0;32mNone\u001b[0m\u001b[0;34m,\u001b[0m \u001b[0;34m'default'\u001b[0m\u001b[0;34m)\u001b[0m\u001b[0;34m\u001b[0m\u001b[0;34m\u001b[0m\u001b[0m\n\u001b[0m",
      "\u001b[0;31mTypeError\u001b[0m: getattr(): attribute name must be string"
     ]
    }
   ],
   "source": [
    "getattr(ent._, None, 'default')"
   ]
  },
  {
   "cell_type": "code",
   "execution_count": null,
   "metadata": {},
   "outputs": [],
   "source": []
  }
 ],
 "metadata": {
  "kernelspec": {
   "display_name": "Python 3",
   "language": "python",
   "name": "python3"
  },
  "language_info": {
   "codemirror_mode": {
    "name": "ipython",
    "version": 3
   },
   "file_extension": ".py",
   "mimetype": "text/x-python",
   "name": "python",
   "nbconvert_exporter": "python",
   "pygments_lexer": "ipython3",
   "version": "3.6.8"
  }
 },
 "nbformat": 4,
 "nbformat_minor": 4
}
